{
 "cells": [
  {
   "cell_type": "markdown",
   "metadata": {},
   "source": [
    "# This IPython notebook is a document for producing HYSPLIT back trajectories and organizing the files\n",
    "    by Xia and Butorovic for JGR-Atmospheres manuscript"
   ]
  },
  {
   "cell_type": "markdown",
   "metadata": {},
   "source": [
    "Python version: 3.7\n",
    "PySPLIT version: 0.3.5\n",
    "\n",
    "PySPLIT is run under pysplitenv conda virtual environment with all dependencies installed.\n",
    "See https://github.com/mscross/pysplit for details."
   ]
  },
  {
   "cell_type": "code",
   "execution_count": null,
   "metadata": {},
   "outputs": [],
   "source": [
    "import pysplit"
   ]
  },
  {
   "cell_type": "markdown",
   "metadata": {},
   "source": [
    "Running trajectory modeling from GDAS dataset:"
   ]
  },
  {
   "cell_type": "code",
   "execution_count": null,
   "metadata": {},
   "outputs": [],
   "source": [
    "working_dir = r'C:/hysplit4/working'\n",
    "storage_dir = r'C:/trajectories/PA_GDAS'\n",
    "meteo_dir = r'C:/gdas'\n",
    "# GDAS meteorological dataset name format is following like \"gdas1.apr05.w1\"\n",
    "basename = 'PA'\n",
    "years = list(range(2005,2016))\n",
    "months = list(range(1,13))\n",
    "hours = [3,9,15,21]\n",
    "altitudes = [500,1000,1500,2000]\n",
    "location = (-53.1638, -70.9171)\n",
    "runtime = -120\n",
    "\n",
    "pysplit.generate_bulktraj(basename, working_dir, storage_dir, meteo_dir,\n",
    "                          years, months, hours, altitudes, location, runtime,\n",
    "                          monthslice = slice(0,32,1), \n",
    "                          meteo_bookends = ([4,5],[1]),\n",
    "                          get_reverse = False,\n",
    "                          get_clipped = False)\n",
    "\n",
    "print(\"GDAS trajectory generation is completed.\")"
   ]
  },
  {
   "cell_type": "markdown",
   "metadata": {},
   "source": [
    "Running trajectory modeling from NCEP/NCAR dataset:"
   ]
  },
  {
   "cell_type": "code",
   "execution_count": null,
   "metadata": {},
   "outputs": [],
   "source": [
    "working_dir = r'C:/hysplit4/working'\n",
    "storage_dir = r'C:/trajectories/PA_NCAR'\n",
    "meteo_dir = r'C:/NCAR'\n",
    "# NCEP/NCAR meterological dataset name format is following like \"RP.apr2008.gbl1\"\n",
    "# meteoyr_2digits should be set as \"False\" in pypslit.generate_bulktraj() below\n",
    "basename = 'PA'\n",
    "years = list(range(1990,2005))\n",
    "months = list(range(1,13))\n",
    "hours = [3,9,15,21]\n",
    "altitudes = [500,1000,1500]\n",
    "# PySPLIT is confused if altitude was set as \"2000\" and it would be read as year 2000.\n",
    "# 2000-m trajectories are generated in a seperate cell (below).\n",
    "location = (-53.1638, -70.9171)\n",
    "runtime = -120\n",
    "\n",
    "pysplit.generate_bulktraj(basename, working_dir, storage_dir, meteo_dir,\n",
    "                          years, months, hours, altitudes, location, runtime,\n",
    "                          monthslice = slice(0,32,1),\n",
    "                          meteo_bookends=([1], [1]),\n",
    "                          get_reverse = False,\n",
    "                          get_clipped = False,\n",
    "                          meteoyr_2digits = False)\n",
    "\n",
    "print(\"NCEP/NCAR trajectory generation (500-m, 1000-m, and 1500-m level) is completed.\")"
   ]
  },
  {
   "cell_type": "code",
   "execution_count": null,
   "metadata": {},
   "outputs": [],
   "source": [
    "working_dir = r'C:/hysplit4/working'\n",
    "storage_dir = r'C:/trajectories/PA_NCAR/2000m'\n",
    "# 2000-m files are stored in a folder so that trajgroup is not confusing with year 2000.\n",
    "meteo_dir = r'C:/NCAR'\n",
    "basename = 'PA'\n",
    "years = list(range(1990,2005))\n",
    "months = list(range(1,13))\n",
    "hours = [3,9,15,21]\n",
    "altitudes = [2000]\n",
    "location = (-53.1638, -70.9171)\n",
    "runtime = -120\n",
    "\n",
    "pysplit.generate_bulktraj(basename, working_dir, storage_dir, meteo_dir,\n",
    "                          years, months, hours, altitudes, location, runtime,\n",
    "                          monthslice = slice(0,32,1),\n",
    "                          meteo_bookends = ([1], [1]),\n",
    "                          get_reverse = False,\n",
    "                          get_clipped = False,\n",
    "                          meteoyr_2digits = False)\n",
    "\n",
    "print(\"NCEP/NCAR trajectory generation (2000-m level) is completed.\")"
   ]
  },
  {
   "cell_type": "markdown",
   "metadata": {},
   "source": [
    "Trajectory files for days without precipitation are deleted:"
   ]
  },
  {
   "cell_type": "code",
   "execution_count": null,
   "metadata": {},
   "outputs": [],
   "source": [
    "import os\n",
    "import pandas as pd\n",
    "month_dict1 = (1,2,3,4,5,6,7,8,9,10,11,12)\n",
    "month_dict2 = (\"01\",\"02\",\"03\",\"04\",\"05\",\"06\",\"07\",\"08\",\"09\",\"10\",\"11\",\"12\")\n",
    "month_dict3 = (\"jan\",\"feb\",\"mar\",\"apr\",\"may\",\"jun\",\"jul\",\"aug\",\"sep\",\"oct\",\"nov\",\"dec\")\n",
    "month_dict4 = (\"summer\",\"summer\",\"autumn\",\"autumn\",\"autumn\",\"winter\",\"winter\",\"winter\",\"spring\",\"spring\",\"spring\",\"summer\")\n",
    "month_dict = dict(zip(month_dict1,list(zip(month_dict2,month_dict3,month_dict4))))\n",
    "\n",
    "def delete_file(data,year,month,day,hour,elevation):\n",
    "    filename = (\"C:/trajectories/PA_{}/PA{}{}{}{}{}{}{}\".format(data,\n",
    "                                                                month_dict[month][1],\n",
    "                                                                elevation,\n",
    "                                                                month_dict[month][2],\n",
    "                                                                year,\n",
    "                                                                month_dict[month][0],\n",
    "                                                                str(day).zfill(2),hour))\n",
    "    if os.path.exists(filename):\n",
    "        os.remove(filename)\n",
    "        print(filename,\"is deleted\")\n",
    "    else:\n",
    "        print(filename,\"is not found\")\n",
    "\n",
    "df = pd.read_csv(\"Punta Arenas precipitation.csv\")\n",
    "for i in range(0,len(df)):\n",
    "    if df.precipitation[i] == 0:\n",
    "        for hr in [\"03\",\"09\",\"15\",\"21\"]:\n",
    "            for elev in [\"0500\",\"1000\",\"1500\",\"2000\"]:\n",
    "                delete_file(\"GDAS\",df.year[i],df.month[i],df.day[i],hr,elev)\n",
    "                delete_file(\"NCAR\",df.year[i],df.month[i],df.day[i],hr,elev)"
   ]
  }
 ],
 "metadata": {
  "kernelspec": {
   "display_name": "Python 3",
   "language": "python",
   "name": "python3"
  },
  "language_info": {
   "codemirror_mode": {
    "name": "ipython",
    "version": 3
   },
   "file_extension": ".py",
   "mimetype": "text/x-python",
   "name": "python",
   "nbconvert_exporter": "python",
   "pygments_lexer": "ipython3",
   "version": "3.7.3"
  }
 },
 "nbformat": 4,
 "nbformat_minor": 2
}
