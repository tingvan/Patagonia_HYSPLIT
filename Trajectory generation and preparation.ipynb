{
 "cells": [
  {
   "cell_type": "markdown",
   "metadata": {},
   "source": [
    "# This IPython notebook is a document for producing HYSPLIT back trajectories and organizing the files\n",
    "    by Xia and Butorovic for JGR-Atmospheres"
   ]
  },
  {
   "cell_type": "markdown",
   "metadata": {},
   "source": [
    "Python version: 3.7\n",
    "PySPLIT version: 0.3.5\n",
    "\n",
    "PySPLIT is run under pysplitenv conda virtual environment with all dependencies installed.\n",
    "See https://github.com/mscross/pysplit for details."
   ]
  },
  {
   "cell_type": "code",
   "execution_count": null,
   "metadata": {},
   "outputs": [],
   "source": [
    "import pysplit"
   ]
  },
  {
   "cell_type": "markdown",
   "metadata": {},
   "source": [
    "Running trajectory modeling from GDAS dataset:"
   ]
  },
  {
   "cell_type": "code",
   "execution_count": null,
   "metadata": {},
   "outputs": [],
   "source": [
    "working_dir = r\"C:/hysplit4/working\"\n",
    "storage_dir = r\"C:/trajectories/PA_GDAS_new\"\n",
    "meteo_dir = r\"C:/gdas\"\n",
    "# GDAS meteorological dataset name format is following like \"gdas1.apr05.w1\"\n",
    "basename = \"PA\"\n",
    "years = list(range(2016,2018))\n",
    "months = list(range(1,13))\n",
    "hours = [0,6,12,18]\n",
    "altitudes = [500,1000,1500,2000]\n",
    "location = (-53.0, -70.8333)\n",
    "runtime = -120\n",
    "\n",
    "pysplit.generate_bulktraj(basename, working_dir, storage_dir, meteo_dir,\n",
    "                          years, months, hours, altitudes, location, runtime,\n",
    "                          monthslice = slice(0,32,1), \n",
    "                          meteo_bookends = ([4,5],[1]),\n",
    "                          get_reverse = False,\n",
    "                          get_clipped = False)\n",
    "\n",
    "print(\"GDAS trajectory generation is completed.\")\n",
    "\n"
   ]
  },
  {
   "cell_type": "markdown",
   "metadata": {},
   "source": [
    "Running trajectory modeling from NCEP/NCAR dataset:"
   ]
  },
  {
   "cell_type": "code",
   "execution_count": null,
   "metadata": {},
   "outputs": [],
   "source": [
    "working_dir = r\"C:/hysplit4/working\"\n",
    "storage_dir = r\"C:/trajectories/PA_NCAR_new\"\n",
    "meteo_dir = r\"C:/NCAR\"\n",
    "# NCEP/NCAR meterological dataset name format is following like \"RP.apr2008.gbl1\"\n",
    "# meteoyr_2digits should be set as \"False\" in pypslit.generate_bulktraj() below\n",
    "basename = \"PA\"\n",
    "years = list(range(1990,2005))\n",
    "months = list(range(1,13))\n",
    "hours = [0,6,12,18]\n",
    "altitudes = [500,1000,1500,2000]\n",
    "location = (-53.0, -70.8333)\n",
    "runtime = -120\n",
    "\n",
    "pysplit.generate_bulktraj(basename, working_dir, storage_dir, meteo_dir,\n",
    "                          years, months, hours, altitudes, location, runtime,\n",
    "                          monthslice = slice(0,32,1),\n",
    "                          meteo_bookends=([1], [1]),\n",
    "                          get_reverse = False,\n",
    "                          get_clipped = False,\n",
    "                          meteoyr_2digits = False)\n",
    "\n",
    "print(\"NCEP/NCAR trajectory generation is completed.\")"
   ]
  },
  {
   "cell_type": "markdown",
   "metadata": {},
   "source": [
    "After trajectory generation was finished, trajectory files should be put into subfolders based on their altitudes.\n",
    "This can be done by searching keywords for file names (on Windows PC) as (for example): \"2000s\" OR \"2000w\" OR \"2000a\".\n",
    "Otherwise, PySPLIT trajgroup will be confused by file names that contain year 2000 with thoes contain day 20 and hour 00.\n",
    "I named subfolders as \"0500m\", \"1000m\", \"1500m\", \"2000m\"."
   ]
  },
  {
   "cell_type": "markdown",
   "metadata": {},
   "source": [
    "Trajectory files for days without precipitation are deleted:"
   ]
  },
  {
   "cell_type": "code",
   "execution_count": null,
   "metadata": {},
   "outputs": [],
   "source": [
    "import os\n",
    "import pandas as pd\n",
    "month_dict1 = (1,2,3,4,5,6,7,8,9,10,11,12)\n",
    "month_dict2 = (\"01\",\"02\",\"03\",\"04\",\"05\",\"06\",\"07\",\"08\",\"09\",\"10\",\"11\",\"12\")\n",
    "month_dict3 = (\"jan\",\"feb\",\"mar\",\"apr\",\"may\",\"jun\",\"jul\",\"aug\",\"sep\",\"oct\",\"nov\",\"dec\")\n",
    "month_dict4 = (\"summer\",\"summer\",\"autumn\",\"autumn\",\"autumn\",\"winter\",\"winter\",\"winter\",\"spring\",\"spring\",\"spring\",\"summer\")\n",
    "month_dict = dict(zip(month_dict1,list(zip(month_dict2,month_dict3,month_dict4))))\n",
    "\n",
    "def delete_file(data,year,month,day,hour,elevation):\n",
    "    filename = (\"C:/trajectories/PA_{}_new/{}m/PA{}{}{}{}{}{}{}\".format(data,elevation,\n",
    "                                                                 month_dict[month][1],\n",
    "                                                                 elevation,\n",
    "                                                                 month_dict[month][2],\n",
    "                                                                 year,\n",
    "                                                                 month_dict[month][0],\n",
    "                                                                 str(day).zfill(2),\n",
    "                                                                 str(hour).zfill(2)))\n",
    "    if os.path.exists(filename):\n",
    "        os.remove(filename)\n",
    "        print(filename,\"is deleted\")\n",
    "    else:\n",
    "        print(filename,\"is not found\")\n",
    "\n",
    "df = pd.read_excel(\"Airport data/Punta Arenas AP precipitation.xlsx\",sheet_name = \"6hour\")\n",
    "for i in range(0,len(df)):\n",
    "    if df[\"6hr precipitation\"][i] == 0 or pd.isnull(df[\"6hr precipitation\"][i]):\n",
    "        if df[\"year\"][i] in range(2005,2018):\n",
    "            for elev in [\"0500\",\"1000\",\"1500\",\"2000\"]:\n",
    "                delete_file(\"GDAS\",df[\"year\"][i],df[\"month\"][i],df[\"day\"][i],df[\"hour\"][i],elev)\n",
    "        if df[\"year\"][i] in range(1990,2005):\n",
    "            for elev in [\"0500\",\"1000\",\"1500\",\"2000\"]:\n",
    "                delete_file(\"NCAR\",df[\"year\"][i],df[\"month\"][i],df[\"day\"][i],df[\"hour\"][i],elev)"
   ]
  },
  {
   "cell_type": "markdown",
   "metadata": {},
   "source": [
    "One trajectory file (elevation = 1000 m) generated has incomplete file (which can be quickly located from file size smaller than 21/22 kb). It was deleted manually."
   ]
  }
 ],
 "metadata": {
  "kernelspec": {
   "display_name": "Python 3",
   "language": "python",
   "name": "python3"
  },
  "language_info": {
   "codemirror_mode": {
    "name": "ipython",
    "version": 3
   },
   "file_extension": ".py",
   "mimetype": "text/x-python",
   "name": "python",
   "nbconvert_exporter": "python",
   "pygments_lexer": "ipython3",
   "version": "3.7.3"
  }
 },
 "nbformat": 4,
 "nbformat_minor": 2
}
